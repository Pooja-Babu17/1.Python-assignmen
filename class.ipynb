{
 "cells": [
  {
   "cell_type": "code",
   "execution_count": 1,
   "metadata": {},
   "outputs": [],
   "source": [
    "class multifunction():\n",
    "    \n",
    "    def subfields():\n",
    "        print(\"sub-fields in AI are:\")\n",
    "        print(\"Machine Learnings\")\n",
    "        print(\"Neural Networks\")\n",
    "        print(\"Vision\")\n",
    "        print(\"Robotics\")\n",
    "        print(\"Speech Processing\")   \n",
    "        print(\"Natural Language Processing\")\n",
    "        \n",
    "    def elegible ():\n",
    "        gender=input(\"your gender:\")\n",
    "        age=int(input(\"your age:\"))\n",
    "        if (age>=18):\n",
    "            print(\"not elegible\") \n",
    "            \n",
    "    def percentage():\n",
    "        sub1=int(input(\"subject1=\"))\n",
    "        sub2=int(input(\"subject2=\"))\n",
    "        sub3=int(input(\"subject3=\"))\n",
    "        sub4=int(input(\"subject4=\"))\n",
    "        sub5=int(input(\"subject5=\"))\n",
    "        total=sub1+sub2+sub3+sub4+sub5\n",
    "        print(\"total:\",total)\n",
    "        print(\"Percentage\",total/500*100)\n",
    "        \n",
    "    def triangle():\n",
    "        Height=int(input(\"Height:\"))\n",
    "        breadth=int(input(\"Breadth:\"))\n",
    "        area=float((Height*breadth)/2)\n",
    "        print(\"Area:\",area) \n",
    "        h1=int(input(\"height1:\"))\n",
    "        h2=int(input(\"height2:\"))\n",
    "        b1=int(input(\"breadth:\"))\n",
    "        perimeter=h1+h2+b1\n",
    "        print(\"Perimeter of triangle\",perimeter)\n",
    "        \n",
    "    def oddeven():\n",
    "        num=int(input(\"enter the number:\"))\n",
    "        if(num%2==0):\n",
    "            print(num,\"is even number\")\n",
    "        else:\n",
    "            print(num,\"is odd number\")\n",
    "\n",
    "    \n",
    "   "
   ]
  },
  {
   "cell_type": "code",
   "execution_count": null,
   "metadata": {},
   "outputs": [],
   "source": []
  },
  {
   "cell_type": "code",
   "execution_count": null,
   "metadata": {},
   "outputs": [],
   "source": []
  },
  {
   "cell_type": "code",
   "execution_count": null,
   "metadata": {},
   "outputs": [],
   "source": []
  }
 ],
 "metadata": {
  "kernelspec": {
   "display_name": "Python 3",
   "language": "python",
   "name": "python3"
  },
  "language_info": {
   "codemirror_mode": {
    "name": "ipython",
    "version": 3
   },
   "file_extension": ".py",
   "mimetype": "text/x-python",
   "name": "python",
   "nbconvert_exporter": "python",
   "pygments_lexer": "ipython3",
   "version": "3.7.4"
  }
 },
 "nbformat": 4,
 "nbformat_minor": 2
}
